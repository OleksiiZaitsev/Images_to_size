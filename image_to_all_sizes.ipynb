{
 "cells": [
  {
   "cell_type": "code",
   "execution_count": 3,
   "metadata": {},
   "outputs": [
    {
     "name": "stdout",
     "output_type": "stream",
     "text": [
      "(2049, 2048, 4)\n",
      "r:\\GraphicsGroup\\UXDesignPart\\Projects\\Proposal_2018\\Mixed_Avatar_Haircuts\\Scene\\THb\\Hair_Short13_Thumbnail.png updated to (512, 512)\n",
      "(2049, 2048, 4)\n",
      "r:\\GraphicsGroup\\UXDesignPart\\Projects\\Proposal_2018\\Mixed_Avatar_Haircuts\\Scene\\THb\\Hair_Short22_Thumbnail.png updated to (512, 512)\n",
      "(2049, 2048, 4)\n",
      "r:\\GraphicsGroup\\UXDesignPart\\Projects\\Proposal_2018\\Mixed_Avatar_Haircuts\\Scene\\THb\\Hair_Short41_Thumbnail.png updated to (512, 512)\n",
      "(2049, 2048, 4)\n",
      "r:\\GraphicsGroup\\UXDesignPart\\Projects\\Proposal_2018\\Mixed_Avatar_Haircuts\\Scene\\THb\\Hair_Short42_Thumbnail.png updated to (512, 512)\n",
      "(2049, 2048, 4)\n",
      "r:\\GraphicsGroup\\UXDesignPart\\Projects\\Proposal_2018\\Mixed_Avatar_Haircuts\\Scene\\THb\\Hair_Short45_Thumbnail.png updated to (512, 512)\n"
     ]
    }
   ],
   "source": [
    "import cv2, re\n",
    "import os\n",
    "import stat\n",
    "\n",
    "path = r'r:\\GraphicsGroup\\UXDesignPart\\Projects\\Proposal_2018\\Mixed_Avatar_Haircuts\\Scene\\THb'\n",
    "\n",
    "\n",
    "paths = []\n",
    "for i in os.walk(path):\n",
    "\n",
    "    if os.path.isdir(i[0]):\n",
    "        paths.append(i[0])\n",
    "\n",
    "size = (512,512)\n",
    "threshold = 0\n",
    "\n",
    "\n",
    "for path in paths:\n",
    "    for img in os.listdir(path):\n",
    "        \n",
    "        fullpath = os.path.join(path, img)\n",
    "        \n",
    "        \n",
    "        \n",
    "        findall = re.findall('.*(\\.png)$',fullpath)\n",
    "        if '.png' in findall:\n",
    "            \n",
    "            os.chmod(fullpath, stat.S_IWRITE)\n",
    "            image = cv2.imread(fullpath, cv2.IMREAD_UNCHANGED)\n",
    "\n",
    "            if image.shape[0] > threshold:\n",
    "                print(image.shape)\n",
    "                \n",
    "                image_210 = cv2.resize(image, (210,210))\n",
    "                image_240 = cv2.resize(image, (240,240))\n",
    "                image_360 = cv2.resize(image, (360,360))\n",
    "                image_512 = cv2.resize(image, (512,512))\n",
    "                \n",
    "                cv2.imwrite(path +'/'+ img.split('.')[0] + '_210' + '.png',  image_210)\n",
    "                cv2.imwrite(path +'/'+ img.split('.')[0] + '_240' + '.png',  image_240)\n",
    "                cv2.imwrite(path +'/'+ img.split('.')[0] + '_360' + '.png',  image_360)\n",
    "                cv2.imwrite(path +'/'+ img.split('.')[0] + '_512' + '.png',  image_512)\n",
    "                \n",
    "                print(fullpath, \"updated to {}\".format(size))"
   ]
  }
 ],
 "metadata": {
  "kernelspec": {
   "display_name": "Python 3",
   "language": "python",
   "name": "python3"
  },
  "language_info": {
   "codemirror_mode": {
    "name": "ipython",
    "version": 3
   },
   "file_extension": ".py",
   "mimetype": "text/x-python",
   "name": "python",
   "nbconvert_exporter": "python",
   "pygments_lexer": "ipython3",
   "version": "3.6.7"
  }
 },
 "nbformat": 4,
 "nbformat_minor": 2
}
